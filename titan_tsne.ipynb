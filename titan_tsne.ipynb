{
 "cells": [
  {
   "cell_type": "markdown",
   "metadata": {},
   "source": [
    "Using 'DeepFashion' Dataset for Test Purposes: (Category and Attribute Prediction Benchmark)\n",
    "\n",
    "- https://mmlab.ie.cuhk.edu.hk/projects/DeepFashion.html\n",
    "\n",
    "\n",
    "DISC2021 Image Similarity Dataset:\n",
    "- https://sites.google.com/view/isc2021/dataset"
   ]
  },
  {
   "cell_type": "markdown",
   "metadata": {},
   "source": [
    "*1- Load and Preprocess Images*"
   ]
  },
  {
   "cell_type": "code",
   "execution_count": null,
   "metadata": {},
   "outputs": [],
   "source": [
    "import boto3\n",
    "import json\n",
    "import base64\n",
    "import os\n",
    "import numpy as np\n",
    "from sklearn.metrics.pairwise import cosine_similarity\n",
    "from sklearn.manifold import TSNE\n",
    "import matplotlib.pyplot as plt\n",
    "from matplotlib.offsetbox import OffsetImage, AnnotationBbox\n",
    "from PIL import Image\n",
    "\n",
    "image_dir = \"test_images_design_subset\"\n",
    "\n",
    "# Load and preprocess images\n",
    "def load_images(image_dir):\n",
    "    image_list = []\n",
    "    file_names = []\n",
    "    for filename in os.listdir(image_dir):\n",
    "        if filename.endswith(\".jpg\") or filename.endswith(\".png\"):\n",
    "            img_path = os.path.join(image_dir, filename)\n",
    "            with open(img_path, \"rb\") as img_file:\n",
    "                img_data = img_file.read()\n",
    "                image_list.append(img_data)\n",
    "            file_names.append(img_path)\n",
    "    return image_list, file_names\n",
    "\n",
    "image_data_list, file_names = load_images(image_dir)\n",
    "\n",
    "# Display number of loaded images\n",
    "print(f\"Loaded {len(image_data_list)} images.\")"
   ]
  },
  {
   "cell_type": "markdown",
   "metadata": {},
   "source": [
    "*AWS Config*"
   ]
  },
  {
   "cell_type": "code",
   "execution_count": null,
   "metadata": {},
   "outputs": [],
   "source": [
    "import json\n",
    "import logging\n",
    "import boto3\n",
    "import base64\n",
    "\n",
    "boto3_session = boto3.session.Session(region_name=\"us-east-1\", profile_name=\"aihubdev\")\n",
    "bedrock_runtime = boto3_session.client(service_name='bedrock-runtime')\n",
    "\n",
    "model_id = \"amazon.titan-embed-image-v1\"\n",
    "\n",
    "accept = \"application/json\"\n",
    "content_type = \"application/json\""
   ]
  },
  {
   "cell_type": "markdown",
   "metadata": {},
   "source": [
    "Getting text embedding:"
   ]
  },
  {
   "cell_type": "code",
   "execution_count": null,
   "metadata": {},
   "outputs": [],
   "source": [
    "input_text = \"What are the different services that you offer?\"\n",
    "output_embedding_length = 256\n",
    "\n",
    "body = json.dumps({\n",
    "    \"inputText\": input_text,\n",
    "    \"embeddingConfig\": {\n",
    "        \"outputEmbeddingLength\": output_embedding_length\n",
    "    }\n",
    "})\n",
    "\n",
    "response = bedrock_runtime.invoke_model(\n",
    "    body=body, modelId=model_id, accept=accept, contentType=content_type\n",
    ")\n",
    "\n",
    "response_body = json.loads(response.get('body').read())"
   ]
  },
  {
   "cell_type": "markdown",
   "metadata": {},
   "source": [
    "Getting image embedding:"
   ]
  },
  {
   "cell_type": "code",
   "execution_count": null,
   "metadata": {},
   "outputs": [],
   "source": [
    "with open(\"test_images/design_test1.png\", \"rb\") as image_file:\n",
    "    input_image = base64.b64encode(image_file.read()).decode('utf8')\n",
    "\n",
    "body = json.dumps({\n",
    "    \"inputImage\": input_image,\n",
    "    \"embeddingConfig\": {\n",
    "        \"outputEmbeddingLength\": output_embedding_length\n",
    "    }\n",
    "})\n",
    "\n",
    "response = bedrock_runtime.invoke_model(\n",
    "    body=body, modelId=model_id, accept=accept, contentType=content_type\n",
    ")\n",
    "\n",
    "response_body = json.loads(response.get('body').read())"
   ]
  },
  {
   "cell_type": "code",
   "execution_count": null,
   "metadata": {},
   "outputs": [],
   "source": [
    "response_body"
   ]
  },
  {
   "cell_type": "markdown",
   "metadata": {},
   "source": [
    "Function to get image embeddings from the Titan Model"
   ]
  },
  {
   "cell_type": "code",
   "execution_count": null,
   "metadata": {},
   "outputs": [],
   "source": [
    "# Function to get image embedding using Titan model\n",
    "def get_image_embedding_titan(image_data, model_id, accept, content_type, output_embedding_length):\n",
    "    try:\n",
    "        input_image = base64.b64encode(image_data).decode('utf8')\n",
    "        body = json.dumps({\n",
    "            \"inputImage\": input_image,\n",
    "            \"embeddingConfig\": {\n",
    "                \"outputEmbeddingLength\": output_embedding_length\n",
    "            }\n",
    "        })\n",
    "        response = bedrock_runtime.invoke_model(\n",
    "            body=body, modelId=model_id, accept=accept, contentType=content_type\n",
    "        )\n",
    "        response_body = json.loads(response['body'].read().decode('utf8'))\n",
    "        embedding = response_body['embedding']\n",
    "        return embedding\n",
    "    except Exception as e:\n",
    "        print(f\"Error processing image: {e}\")\n",
    "        return None"
   ]
  },
  {
   "cell_type": "markdown",
   "metadata": {},
   "source": [
    "*2- Extract embeddings using Titan*"
   ]
  },
  {
   "cell_type": "code",
   "execution_count": null,
   "metadata": {},
   "outputs": [],
   "source": [
    "# Get embeddings for all images\n",
    "embeddings = []\n",
    "for img_data in image_data_list:\n",
    "    embedding = get_image_embedding_titan(img_data, model_id, accept, content_type, output_embedding_length)\n",
    "    if embedding is not None:\n",
    "        embeddings.append(embedding)\n",
    "\n",
    "# Convert embeddings to numpy array\n",
    "embeddings_array = np.array(embeddings)\n",
    "\n",
    "# Display number of generated embeddings\n",
    "print(f\"Generated {len(embeddings_array)} embeddings.\")"
   ]
  },
  {
   "cell_type": "markdown",
   "metadata": {},
   "source": [
    "*3- Calculate Embedding Similarity*"
   ]
  },
  {
   "cell_type": "code",
   "execution_count": null,
   "metadata": {},
   "outputs": [],
   "source": [
    "# Calculate cosine similarity matrix\n",
    "similarity_matrix = cosine_similarity(embeddings_array)\n",
    "print(\"Cosine similarity matrix:\\n\", similarity_matrix)"
   ]
  },
  {
   "cell_type": "markdown",
   "metadata": {},
   "source": [
    "*4- Do Visualization*"
   ]
  },
  {
   "cell_type": "code",
   "execution_count": null,
   "metadata": {},
   "outputs": [],
   "source": [
    "# Function to visualize using t-SNE with images\n",
    "def visualize_embeddings_with_images(embeddings, file_names, image_dir):\n",
    "    tsne = TSNE(n_components=2, perplexity=15, n_iter=300)\n",
    "    tsne_results = tsne.fit_transform(embeddings)\n",
    "    \n",
    "    fig, ax = plt.subplots(figsize=(16, 16))\n",
    "    for i, filename in enumerate(file_names):\n",
    "        x, y = tsne_results[i, :]\n",
    "        #img_path = os.path.join(image_dir, filename)\n",
    "        img_path = filename\n",
    "        img = Image.open(img_path)\n",
    "        img.thumbnail((50, 50), Image.LANCZOS)\n",
    "        img = np.array(img)\n",
    "        if img.shape[2] == 4:  # Convert RGBA to RGB if necessary\n",
    "            img = img[:, :, :3]\n",
    "        img_box = OffsetImage(img, zoom=1)\n",
    "        ab = AnnotationBbox(img_box, (x, y), frameon=False)\n",
    "        ax.add_artist(ab)\n",
    "    plt.scatter(tsne_results[:, 0], tsne_results[:, 1], alpha=0)  # To set the limits of the plot\n",
    "    plt.title('t-SNE Visualization of Image Embeddings with Images')\n",
    "    plt.xlabel('Component 1')\n",
    "    plt.ylabel('Component 2')\n",
    "    plt.show()\n",
    "\n",
    "# Visualize the embeddings\n",
    "visualize_embeddings_with_images(embeddings_array, file_names, image_dir)"
   ]
  }
 ],
 "metadata": {
  "language_info": {
   "name": "python"
  }
 },
 "nbformat": 4,
 "nbformat_minor": 2
}
